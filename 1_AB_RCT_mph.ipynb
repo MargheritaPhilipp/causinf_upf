{
 "cells": [
  {
   "cell_type": "code",
   "execution_count": 94,
   "metadata": {},
   "outputs": [],
   "source": [
    "import pandas as pd\n",
    "import numpy as np\n",
    "import matplotlib.pyplot as plt\n",
    "\n",
    "from scipy.stats import ttest_ind\n"
   ]
  },
  {
   "cell_type": "markdown",
   "metadata": {},
   "source": [
    "## Cookie cats data\n",
    "Data downloaded from Kaggle on 8 January 2025:\n",
    "https://www.kaggle.com/datasets/mursideyarkin/mobile-games-ab-testing-cookie-cats"
   ]
  },
  {
   "cell_type": "markdown",
   "metadata": {},
   "source": [
    "**Context**\n",
    "\n",
    "Cookie Cats is a hugely popular mobile puzzle game developed by Tactile Entertainment. It is a classic \"connect three\" style puzzle game where the player must connect tiles of the same color in order to clear the board and win the level. As players progress through the game they will encounter gates that force them to wait some time before they can progress or make an in-app purchase\n",
    "\n",
    "This dataset includes A/B test results of Cookie Cats to examine what happens when the first gate in the game was moved from level 30 to level 40. When a player installed the game, he or she was randomly assigned to either gate_30 or gate_40.\n",
    "\n",
    "\n",
    "**Content**\n",
    "\n",
    "The data we have is from 90,189 players that installed the game while the AB-test was running. The variables are:\n",
    "\n",
    "- **userid:** A unique number that identifies each player. \n",
    "- **version:** Whether the player was put in the control group (gate_30 - a gate at level 30) or the group with the moved gate (gate_40 - a gate at level 40).\n",
    "- **sum_gamerounds:** the number of game rounds played by the player during the first 14 days after install.\n",
    "- **retention_1:** Did the player come back and play 1 day after installing?\n",
    "- **retention_7:** Did the player come back and play 7 days after installing?"
   ]
  },
  {
   "cell_type": "markdown",
   "metadata": {},
   "source": [
    "**Pause:**\n",
    "1. Do you have a prior about the impact of making people wait sooner or later in the game?\n",
    "2. Can you phrase this as a hypothesis?\n",
    "3. Should we do a one- or a two-tailed test?"
   ]
  },
  {
   "cell_type": "markdown",
   "metadata": {},
   "source": [
    "### Data inspection and cleaning"
   ]
  },
  {
   "cell_type": "code",
   "execution_count": 56,
   "metadata": {},
   "outputs": [],
   "source": [
    "# import data\n",
    "df = pd.read_csv('./data/game/cookie_cats.csv') "
   ]
  },
  {
   "cell_type": "code",
   "execution_count": 57,
   "metadata": {},
   "outputs": [
    {
     "name": "stdout",
     "output_type": "stream",
     "text": [
      "<class 'pandas.core.frame.DataFrame'>\n",
      "RangeIndex: 90189 entries, 0 to 90188\n",
      "Data columns (total 5 columns):\n",
      " #   Column          Non-Null Count  Dtype \n",
      "---  ------          --------------  ----- \n",
      " 0   userid          90189 non-null  int64 \n",
      " 1   version         90189 non-null  object\n",
      " 2   sum_gamerounds  90189 non-null  int64 \n",
      " 3   retention_1     90189 non-null  bool  \n",
      " 4   retention_7     90189 non-null  bool  \n",
      "dtypes: bool(2), int64(2), object(1)\n",
      "memory usage: 2.2+ MB\n"
     ]
    }
   ],
   "source": [
    "# check column names, data types and potential missing values\n",
    "df.info()"
   ]
  },
  {
   "cell_type": "code",
   "execution_count": 58,
   "metadata": {},
   "outputs": [
    {
     "data": {
      "text/plain": [
       "90189"
      ]
     },
     "execution_count": 58,
     "metadata": {},
     "output_type": "execute_result"
    }
   ],
   "source": [
    "# check for duplicate userIDs\n",
    "df.userid.nunique()"
   ]
  },
  {
   "cell_type": "code",
   "execution_count": 59,
   "metadata": {},
   "outputs": [
    {
     "data": {
      "text/html": [
       "<div>\n",
       "<style scoped>\n",
       "    .dataframe tbody tr th:only-of-type {\n",
       "        vertical-align: middle;\n",
       "    }\n",
       "\n",
       "    .dataframe tbody tr th {\n",
       "        vertical-align: top;\n",
       "    }\n",
       "\n",
       "    .dataframe thead th {\n",
       "        text-align: right;\n",
       "    }\n",
       "</style>\n",
       "<table border=\"1\" class=\"dataframe\">\n",
       "  <thead>\n",
       "    <tr style=\"text-align: right;\">\n",
       "      <th></th>\n",
       "      <th>userid</th>\n",
       "      <th>sum_gamerounds</th>\n",
       "    </tr>\n",
       "  </thead>\n",
       "  <tbody>\n",
       "    <tr>\n",
       "      <th>count</th>\n",
       "      <td>9.018900e+04</td>\n",
       "      <td>90189.000000</td>\n",
       "    </tr>\n",
       "    <tr>\n",
       "      <th>mean</th>\n",
       "      <td>4.998412e+06</td>\n",
       "      <td>51.872457</td>\n",
       "    </tr>\n",
       "    <tr>\n",
       "      <th>std</th>\n",
       "      <td>2.883286e+06</td>\n",
       "      <td>195.050858</td>\n",
       "    </tr>\n",
       "    <tr>\n",
       "      <th>min</th>\n",
       "      <td>1.160000e+02</td>\n",
       "      <td>0.000000</td>\n",
       "    </tr>\n",
       "    <tr>\n",
       "      <th>25%</th>\n",
       "      <td>2.512230e+06</td>\n",
       "      <td>5.000000</td>\n",
       "    </tr>\n",
       "    <tr>\n",
       "      <th>50%</th>\n",
       "      <td>4.995815e+06</td>\n",
       "      <td>16.000000</td>\n",
       "    </tr>\n",
       "    <tr>\n",
       "      <th>75%</th>\n",
       "      <td>7.496452e+06</td>\n",
       "      <td>51.000000</td>\n",
       "    </tr>\n",
       "    <tr>\n",
       "      <th>max</th>\n",
       "      <td>9.999861e+06</td>\n",
       "      <td>49854.000000</td>\n",
       "    </tr>\n",
       "  </tbody>\n",
       "</table>\n",
       "</div>"
      ],
      "text/plain": [
       "             userid  sum_gamerounds\n",
       "count  9.018900e+04    90189.000000\n",
       "mean   4.998412e+06       51.872457\n",
       "std    2.883286e+06      195.050858\n",
       "min    1.160000e+02        0.000000\n",
       "25%    2.512230e+06        5.000000\n",
       "50%    4.995815e+06       16.000000\n",
       "75%    7.496452e+06       51.000000\n",
       "max    9.999861e+06    49854.000000"
      ]
     },
     "execution_count": 59,
     "metadata": {},
     "output_type": "execute_result"
    }
   ],
   "source": [
    "# check distribution of numeric columns, e.g. for outliers\n",
    "df.describe()"
   ]
  },
  {
   "cell_type": "code",
   "execution_count": 60,
   "metadata": {},
   "outputs": [
    {
     "data": {
      "image/png": "[encoded data removed]",
      "text/plain": [
       "<Figure size 640x480 with 1 Axes>"
      ]
     },
     "metadata": {},
     "output_type": "display_data"
    }
   ],
   "source": [
    "# display distribution to verify outliers\n",
    "plt.boxplot(df['sum_gamerounds'])\n",
    "plt.show()"
   ]
  },
  {
   "cell_type": "code",
   "execution_count": 61,
   "metadata": {},
   "outputs": [
    {
     "name": "stdout",
     "output_type": "stream",
     "text": [
      "49854\n"
     ]
    },
    {
     "data": {
      "text/html": [
       "<div>\n",
       "<style scoped>\n",
       "    .dataframe tbody tr th:only-of-type {\n",
       "        vertical-align: middle;\n",
       "    }\n",
       "\n",
       "    .dataframe tbody tr th {\n",
       "        vertical-align: top;\n",
       "    }\n",
       "\n",
       "    .dataframe thead th {\n",
       "        text-align: right;\n",
       "    }\n",
       "</style>\n",
       "<table border=\"1\" class=\"dataframe\">\n",
       "  <thead>\n",
       "    <tr style=\"text-align: right;\">\n",
       "      <th></th>\n",
       "      <th>userid</th>\n",
       "      <th>version</th>\n",
       "      <th>sum_gamerounds</th>\n",
       "      <th>retention_1</th>\n",
       "      <th>retention_7</th>\n",
       "    </tr>\n",
       "  </thead>\n",
       "  <tbody>\n",
       "    <tr>\n",
       "      <th>57702</th>\n",
       "      <td>6390605</td>\n",
       "      <td>gate_30</td>\n",
       "      <td>49854</td>\n",
       "      <td>False</td>\n",
       "      <td>True</td>\n",
       "    </tr>\n",
       "  </tbody>\n",
       "</table>\n",
       "</div>"
      ],
      "text/plain": [
       "        userid  version  sum_gamerounds  retention_1  retention_7\n",
       "57702  6390605  gate_30           49854        False         True"
      ]
     },
     "execution_count": 61,
     "metadata": {},
     "output_type": "execute_result"
    }
   ],
   "source": [
    "# show the outlier\n",
    "max_value = df.sum_gamerounds.max()\n",
    "print(max_value)\n",
    "\n",
    "df.loc[df['sum_gamerounds']==max_value]"
   ]
  },
  {
   "cell_type": "markdown",
   "metadata": {},
   "source": [
    "**Pause:**\n",
    "1. What would you do with this outlier? Justify your decision.\n",
    "2. Can you also justify the opposite decision?"
   ]
  },
  {
   "cell_type": "code",
   "execution_count": 62,
   "metadata": {},
   "outputs": [
    {
     "data": {
      "image/png": "[encoded data removed]",
      "text/plain": [
       "<Figure size 640x480 with 1 Axes>"
      ]
     },
     "metadata": {},
     "output_type": "display_data"
    }
   ],
   "source": [
    "# only keep values below a chosen threshold\n",
    "df = df.loc[df['sum_gamerounds'] < 40000]\n",
    "\n",
    "# check distribution again\n",
    "plt.boxplot(df['sum_gamerounds'])\n",
    "plt.show()"
   ]
  },
  {
   "cell_type": "markdown",
   "metadata": {},
   "source": [
    "### Inspecting treatment groups and outcome definitions"
   ]
  },
  {
   "cell_type": "code",
   "execution_count": 86,
   "metadata": {},
   "outputs": [
    {
     "data": {
      "text/plain": [
       "version\n",
       "gate_40    45489\n",
       "gate_30    44699\n",
       "Name: count, dtype: int64"
      ]
     },
     "execution_count": 86,
     "metadata": {},
     "output_type": "execute_result"
    }
   ],
   "source": [
    "# quick way to check distribution of participants across control groups\n",
    "df.version.value_counts()"
   ]
  },
  {
   "cell_type": "code",
   "execution_count": 110,
   "metadata": {},
   "outputs": [
    {
     "data": {
      "text/html": [
       "<div>\n",
       "<style scoped>\n",
       "    .dataframe tbody tr th:only-of-type {\n",
       "        vertical-align: middle;\n",
       "    }\n",
       "\n",
       "    .dataframe tbody tr th {\n",
       "        vertical-align: top;\n",
       "    }\n",
       "\n",
       "    .dataframe thead th {\n",
       "        text-align: right;\n",
       "    }\n",
       "</style>\n",
       "<table border=\"1\" class=\"dataframe\">\n",
       "  <thead>\n",
       "    <tr style=\"text-align: right;\">\n",
       "      <th></th>\n",
       "      <th>userid</th>\n",
       "      <th>version</th>\n",
       "      <th>sum_gamerounds</th>\n",
       "      <th>retention_1</th>\n",
       "      <th>retention_7</th>\n",
       "      <th>retention_1_num</th>\n",
       "      <th>retention_7_num</th>\n",
       "    </tr>\n",
       "  </thead>\n",
       "  <tbody>\n",
       "    <tr>\n",
       "      <th>57157</th>\n",
       "      <td>6332749</td>\n",
       "      <td>gate_40</td>\n",
       "      <td>83</td>\n",
       "      <td>True</td>\n",
       "      <td>False</td>\n",
       "      <td>1</td>\n",
       "      <td>0</td>\n",
       "    </tr>\n",
       "    <tr>\n",
       "      <th>6995</th>\n",
       "      <td>775710</td>\n",
       "      <td>gate_40</td>\n",
       "      <td>48</td>\n",
       "      <td>False</td>\n",
       "      <td>False</td>\n",
       "      <td>0</td>\n",
       "      <td>0</td>\n",
       "    </tr>\n",
       "  </tbody>\n",
       "</table>\n",
       "</div>"
      ],
      "text/plain": [
       "        userid  version  sum_gamerounds  retention_1  retention_7  \\\n",
       "57157  6332749  gate_40              83         True        False   \n",
       "6995    775710  gate_40              48        False        False   \n",
       "\n",
       "       retention_1_num  retention_7_num  \n",
       "57157                1                0  \n",
       "6995                 0                0  "
      ]
     },
     "execution_count": 110,
     "metadata": {},
     "output_type": "execute_result"
    }
   ],
   "source": [
    "# create numeric columns equivalent to boolean (not all operator interpret 'True' as 1)\n",
    "df['retention_1_num'] = df['retention_1']*1\n",
    "df['retention_7_num'] = df['retention_7']*1\n",
    "df.sample(2)"
   ]
  },
  {
   "cell_type": "code",
   "execution_count": 105,
   "metadata": {},
   "outputs": [
    {
     "name": "stdout",
     "output_type": "stream",
     "text": [
      "Included participants: 90188\n",
      "Gate_30 (early): 44699 49.56 %\n",
      "Gate_40 (late): 45489 50.44 %\n"
     ]
    }
   ],
   "source": [
    "# create separate data frames for convenience\n",
    "participants = len(df)\n",
    "\n",
    "df_late = df.loc[df['version']=='gate_40']\n",
    "df_early = df.loc[df['version']=='gate_30']\n",
    "\n",
    "print('Included participants:', participants)\n",
    "print('Gate_30 (early):', len(df_early),round(len(df_early)/participants*100,2),'%' )\n",
    "print('Gate_40 (late):', len(df_late),round(len(df_late)/participants*100,2),'%' )"
   ]
  },
  {
   "cell_type": "markdown",
   "metadata": {},
   "source": [
    "**Pause:**\n",
    "1. In an ideal, what additional data would you like to have about users?\n",
    "2. What would you do with this data and why?\n",
    "3. Does the sample look large enough to you? What does this depend on?"
   ]
  },
  {
   "cell_type": "markdown",
   "metadata": {},
   "source": [
    "#### (1) Game rounds"
   ]
  },
  {
   "cell_type": "code",
   "execution_count": 121,
   "metadata": {},
   "outputs": [
    {
     "data": {
      "image/png": "[encoded data removed]",
      "text/plain": [
       "<Figure size 640x480 with 1 Axes>"
      ]
     },
     "metadata": {},
     "output_type": "display_data"
    },
    {
     "name": "stdout",
     "output_type": "stream",
     "text": [
      "Gate_30 mean gamerounds:  51.3421\n",
      "Gate_40 mean gamerounds:  51.2988\n",
      "\n",
      "\n",
      "Difference in means (d): 0.043300000000002115\n",
      "t-test statistic: -0.0633675766982082\n",
      "p-value (t-test): 0.9494739458256001\n"
     ]
    }
   ],
   "source": [
    "# first outcome definition: number of gamerounds played\n",
    "\n",
    "# visualise in histogram\n",
    "plt.hist(df_late['sum_gamerounds'], 100, alpha=0.9, color='blue', label='Gate_40')\n",
    "plt.hist(df_early['sum_gamerounds'], 100, alpha=0.5, color='orange', label='Gate_30')\n",
    "plt.legend(loc=\"upper right\")\n",
    "plt.title(\"\")\n",
    "plt.xlabel(\"gamerounds\")\n",
    "plt.ylabel(\"users\")\n",
    "plt.show()\n",
    "\n",
    "# compare means\n",
    "av_gr_late = round(np.mean(df_late['sum_gamerounds']), 4)\n",
    "av_gr_early = round(np.mean(df_early['sum_gamerounds']), 4)\n",
    "\n",
    "print('Gate_30 mean gamerounds: ', av_gr_early)\n",
    "print('Gate_40 mean gamerounds: ', av_gr_late)\n",
    "print('\\n')\n",
    "\n",
    "# Find the difference from the latest run\n",
    "diff_gr = av_gr_early - av_gr_late\n",
    "\n",
    "# Perform a t-test - for independent samples of scores\n",
    "t_stat, p_value_ttest = ttest_ind(df_late['sum_gamerounds'], df_early['sum_gamerounds'])\n",
    "\n",
    "# Display results\n",
    "print(f\"Difference in means (d): {diff_gr}\")\n",
    "print(f\"t-test statistic: {t_stat}\")\n",
    "print(f\"p-value (t-test): {p_value_ttest}\")"
   ]
  },
  {
   "cell_type": "markdown",
   "metadata": {},
   "source": [
    "#### (2) 1-Day return"
   ]
  },
  {
   "cell_type": "code",
   "execution_count": 122,
   "metadata": {},
   "outputs": [
    {
     "data": {
      "image/png": "[encoded data removed]",
      "text/plain": [
       "<Figure size 640x480 with 1 Axes>"
      ]
     },
     "metadata": {},
     "output_type": "display_data"
    },
    {
     "name": "stdout",
     "output_type": "stream",
     "text": [
      "Gate_30 mean retention_1:  0.4482\n",
      "Gate_40 mean retention_1:  0.4423\n",
      "\n",
      "\n",
      "Difference in means (d): 0.005899999999999961\n",
      "t-test statistic: -1.787115337299244\n",
      "p-value (t-test): 0.07392220630182518\n"
     ]
    }
   ],
   "source": [
    "# second outcome definition: likelihood of coming back within one day \n",
    "\n",
    "# visualise in histogram\n",
    "plt.hist(df_late['retention_1_num'], 3, alpha=0.9, color='blue', label='Gate_40')\n",
    "plt.hist(df_early['retention_1_num'], 3, alpha=0.5, color='orange', label='Gate_30')\n",
    "plt.legend(loc=\"upper right\")\n",
    "plt.title(\"\")\n",
    "plt.xlabel(\"\")\n",
    "plt.ylabel(\"users\")\n",
    "plt.show()\n",
    "\n",
    "# compare means\n",
    "av_r1_late = round(np.mean(df_late['retention_1_num']), 4)\n",
    "av_r1_early = round(np.mean(df_early['retention_1_num']), 4)\n",
    "\n",
    "print('Gate_30 mean retention_1: ', av_r1_early)\n",
    "print('Gate_40 mean retention_1: ', av_r1_late)\n",
    "print('\\n')\n",
    "\n",
    "# Find the difference from the latest run\n",
    "diff_gr = av_r1_early - av_r1_late\n",
    "\n",
    "# Perform a t-test - for independent samples of scores\n",
    "t_stat, p_value_ttest = ttest_ind(df_late['retention_1_num'], df_early['retention_1_num'])\n",
    "\n",
    "# Display results\n",
    "print(f\"Difference in means (d): {diff_gr}\")\n",
    "print(f\"t-test statistic: {t_stat}\")\n",
    "print(f\"p-value (t-test): {p_value_ttest}\")"
   ]
  },
  {
   "cell_type": "markdown",
   "metadata": {},
   "source": [
    "#### (3) 7-Day return"
   ]
  },
  {
   "cell_type": "code",
   "execution_count": null,
   "metadata": {},
   "outputs": [],
   "source": [
    "# third outcome definition: likelihood of coming back within seven days"
   ]
  },
  {
   "cell_type": "markdown",
   "metadata": {},
   "source": [
    "#### (4) Continuous engagement"
   ]
  },
  {
   "cell_type": "code",
   "execution_count": null,
   "metadata": {},
   "outputs": [],
   "source": [
    "# fourth outcome definition: likelihood of coming within one day and still being around after seven"
   ]
  },
  {
   "cell_type": "markdown",
   "metadata": {},
   "source": [
    "## Medical data\n",
    "\n",
    "Downloaded from Kaggle on 8 January 2025: https://www.kaggle.com/datasets/shashwatwork/clinical-dataset-of-the-cypguides-trial?resource=download"
   ]
  },
  {
   "cell_type": "code",
   "execution_count": 123,
   "metadata": {},
   "outputs": [],
   "source": [
    "df = pd.read_csv('./data/medical/Dataset.csv')"
   ]
  }
 ],
 "metadata": {
  "kernelspec": {
   "display_name": "causinf",
   "language": "python",
   "name": "python3"
  },
  "language_info": {
   "codemirror_mode": {
    "name": "ipython",
    "version": 3
   },
   "file_extension": ".py",
   "mimetype": "text/x-python",
   "name": "python",
   "nbconvert_exporter": "python",
   "pygments_lexer": "ipython3",
   "version": "3.9.6"
  }
 },
 "nbformat": 4,
 "nbformat_minor": 2
}
